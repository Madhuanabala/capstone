{
  "nbformat": 4,
  "nbformat_minor": 0,
  "metadata": {
    "colab": {
      "provenance": [],
      "authorship_tag": "ABX9TyNCLE3upPnkMBf1HvC9BSAk",
      "include_colab_link": true
    },
    "kernelspec": {
      "name": "python3",
      "display_name": "Python 3"
    },
    "language_info": {
      "name": "python"
    }
  },
  "cells": [
    {
      "cell_type": "markdown",
      "metadata": {
        "id": "view-in-github",
        "colab_type": "text"
      },
      "source": [
        "<a href=\"https://colab.research.google.com/github/Madhuanabala/capstone/blob/multiple-sequence-allignment/msa_before_translation.ipynb\" target=\"_parent\"><img src=\"https://colab.research.google.com/assets/colab-badge.svg\" alt=\"Open In Colab\"/></a>"
      ]
    },
    {
      "cell_type": "code",
      "source": [
        "!pip install biopython\n"
      ],
      "metadata": {
        "colab": {
          "base_uri": "https://localhost:8080/"
        },
        "id": "qiX-i0ietryQ",
        "outputId": "895577ad-1a02-4f2e-9a42-8420f39f3ed9"
      },
      "execution_count": 35,
      "outputs": [
        {
          "output_type": "stream",
          "name": "stdout",
          "text": [
            "Requirement already satisfied: biopython in /usr/local/lib/python3.11/dist-packages (1.85)\n",
            "Requirement already satisfied: numpy in /usr/local/lib/python3.11/dist-packages (from biopython) (1.26.4)\n"
          ]
        }
      ]
    },
    {
      "cell_type": "code",
      "source": [
        "!apt-get install -y clustalo"
      ],
      "metadata": {
        "colab": {
          "base_uri": "https://localhost:8080/"
        },
        "id": "SE7Z-xl4t35X",
        "outputId": "b01f3424-eb32-4c5e-b678-93ffbaf84bb2"
      },
      "execution_count": 37,
      "outputs": [
        {
          "output_type": "stream",
          "name": "stdout",
          "text": [
            "Reading package lists... Done\n",
            "Building dependency tree... Done\n",
            "Reading state information... Done\n",
            "clustalo is already the newest version (1.2.4-7).\n",
            "0 upgraded, 0 newly installed, 0 to remove and 49 not upgraded.\n"
          ]
        }
      ]
    },
    {
      "cell_type": "code",
      "source": [
        "import csv\n",
        "from Bio.Align.Applications import ClustalOmegaCommandline\n",
        "from Bio import AlignIO\n",
        "from Bio.Seq import Seq\n",
        "from Bio.SeqRecord import SeqRecord\n",
        "from Bio import SeqIO"
      ],
      "metadata": {
        "id": "jlx49nw9ttr_"
      },
      "execution_count": 43,
      "outputs": []
    },
    {
      "cell_type": "code",
      "source": [
        "def csv_to_fasta(csv_file, fasta_file):\n",
        "    with open(csv_file, 'r') as csvfile:\n",
        "        reader = csv.DictReader(csvfile)\n",
        "        records = []\n",
        "        for row in reader:\n",
        "            seq_id = row.get(\"ID\") or row.get(\"Name\") or f\"Sequence_{len(records) + 1}\"\n",
        "            sequence = row.get(\"Sequence\")\n",
        "            if sequence:\n",
        "                records.append(SeqRecord(Seq(sequence), id=seq_id, description=\"\"))\n",
        "        SeqIO.write(records, fasta_file, \"fasta\")\n",
        "    print(f\"Converted {len(records)} sequences from CSV to FASTA.\")"
      ],
      "metadata": {
        "id": "U9v9yFjDuGGa"
      },
      "execution_count": 44,
      "outputs": []
    },
    {
      "cell_type": "code",
      "source": [
        "def perform_msa(input_file, output_file):\n",
        "    clustalo_cline = ClustalOmegaCommandline(\n",
        "        cmd=\"clustalo\",\n",
        "        infile=input_file,\n",
        "        outfile=output_file,\n",
        "        seqtype=\"dna\",  # Change to 'dna' if your sequences are nucleotide\n",
        "        verbose=True,\n",
        "        auto=True,\n",
        "        force=True\n",
        "    )\n",
        "    print(f\"Running Clustal Omega...\\nCommand: {clustalo_cline}\")\n",
        "    stdout, stderr = clustalo_cline()\n",
        "    print(\"MSA completed.\")\n",
        "    return output_file"
      ],
      "metadata": {
        "id": "LdjbtEw5uNWv"
      },
      "execution_count": 61,
      "outputs": []
    },
    {
      "cell_type": "code",
      "source": [
        "def display_alignment(aligned_file):\n",
        "\n",
        "  try:\n",
        "    alignment = AlignIO.read(aligned_file, \"clustal\")\n",
        "  except ValueError:\n",
        "    alignment = AlignIO.read(aligned_file, \"fasta\")\n",
        "  print(\"\\nAligned Sequences:\")\n",
        "  print(alignment)\n",
        ""
      ],
      "metadata": {
        "id": "LXshGMduuUi5"
      },
      "execution_count": 62,
      "outputs": []
    },
    {
      "cell_type": "code",
      "source": [
        "csv_file = \"/content/antibody sequences from imgt (CEA).csv\"\n",
        "fasta_file = \"antibody_sequences.fasta\"\n",
        "aligned_file = \"aligned_sequences.aln\""
      ],
      "metadata": {
        "id": "dxad-5MguZRs"
      },
      "execution_count": 63,
      "outputs": []
    },
    {
      "cell_type": "code",
      "source": [
        "csv_to_fasta(csv_file, fasta_file)\n",
        "aligned_file = perform_msa(fasta_file, aligned_file)\n",
        "display_alignment(aligned_file)"
      ],
      "metadata": {
        "colab": {
          "base_uri": "https://localhost:8080/"
        },
        "id": "XLwo-LVsufrT",
        "outputId": "8957ed24-42b1-4d78-b5f2-38c73c96db8d"
      },
      "execution_count": 64,
      "outputs": [
        {
          "output_type": "stream",
          "name": "stdout",
          "text": [
            "Converted 88 sequences from CSV to FASTA.\n",
            "Running Clustal Omega...\n",
            "Command: clustalo -i antibody_sequences.fasta -t dna -o aligned_sequences.aln --auto -v --force\n",
            "MSA completed.\n",
            "\n",
            "Aligned Sequences:\n",
            "Alignment with 88 rows and 1661 columns\n",
            "--------------------------------------------...--- Sequence_1\n",
            "--------------------------------------------...--- Sequence_2\n",
            "--------------------------------------------...--- Sequence_3\n",
            "--------------------------------------------...--- Sequence_4\n",
            "--------------------------------------------...--- Sequence_5\n",
            "--------------------------------------------...--- Sequence_6\n",
            "--------------------------------------------...--- Sequence_7\n",
            "-tggaat-------------------------------------...--- Sequence_8\n",
            "--------------------------------------------...--- Sequence_9\n",
            "--------------------------------------------...tga Sequence_10\n",
            "--------------------------------------------...--- Sequence_11\n",
            "--------------------------------------------...--- Sequence_12\n",
            "--------------------------------------------...--- Sequence_13\n",
            "--------------------------------------------...--- Sequence_14\n",
            "--------------------------------------------...--- Sequence_15\n",
            "--------------------------------------------...--- Sequence_16\n",
            "--------------------------------------------...--- Sequence_17\n",
            "--------------------------------------------...--- Sequence_18\n",
            "...\n",
            "--------------------------------------------...--- Sequence_88\n"
          ]
        }
      ]
    }
  ]
}