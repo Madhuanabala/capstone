{
  "cells": [
    {
      "cell_type": "markdown",
      "metadata": {
        "id": "view-in-github",
        "colab_type": "text"
      },
      "source": [
        "<a href=\"https://colab.research.google.com/github/Madhuanabala/capstone/blob/main/datacollection.ipynb\" target=\"_parent\"><img src=\"https://colab.research.google.com/assets/colab-badge.svg\" alt=\"Open In Colab\"/></a>"
      ]
    },
    {
      "cell_type": "code",
      "source": [
        "import pandas as pd\n",
        "import os\n",
        "import numpy as np\n",
        "!pip install biopython\n"
      ],
      "metadata": {
        "colab": {
          "base_uri": "https://localhost:8080/"
        },
        "id": "0_MSJJplT6vH",
        "outputId": "a3891d63-45cb-468a-c3fb-c2b5426cf217"
      },
      "execution_count": null,
      "outputs": [
        {
          "output_type": "stream",
          "name": "stdout",
          "text": [
            "Collecting biopython\n",
            "  Downloading biopython-1.84-cp310-cp310-manylinux_2_17_x86_64.manylinux2014_x86_64.whl.metadata (12 kB)\n",
            "Requirement already satisfied: numpy in /usr/local/lib/python3.10/dist-packages (from biopython) (1.26.4)\n",
            "Downloading biopython-1.84-cp310-cp310-manylinux_2_17_x86_64.manylinux2014_x86_64.whl (3.2 MB)\n",
            "\u001b[?25l   \u001b[90m━━━━━━━━━━━━━━━━━━━━━━━━━━━━━━━━━━━━━━━━\u001b[0m \u001b[32m0.0/3.2 MB\u001b[0m \u001b[31m?\u001b[0m eta \u001b[36m-:--:--\u001b[0m\r\u001b[2K   \u001b[91m━━━━━━━━━━━━━━━━━━━━━\u001b[0m\u001b[91m╸\u001b[0m\u001b[90m━━━━━━━━━━━━━━━━━━\u001b[0m \u001b[32m1.7/3.2 MB\u001b[0m \u001b[31m51.3 MB/s\u001b[0m eta \u001b[36m0:00:01\u001b[0m\r\u001b[2K   \u001b[91m━━━━━━━━━━━━━━━━━━━━━━━━━━━━━━━━━━━━━━━\u001b[0m\u001b[91m╸\u001b[0m \u001b[32m3.2/3.2 MB\u001b[0m \u001b[31m64.6 MB/s\u001b[0m eta \u001b[36m0:00:01\u001b[0m\r\u001b[2K   \u001b[90m━━━━━━━━━━━━━━━━━━━━━━━━━━━━━━━━━━━━━━━━\u001b[0m \u001b[32m3.2/3.2 MB\u001b[0m \u001b[31m42.1 MB/s\u001b[0m eta \u001b[36m0:00:00\u001b[0m\n",
            "\u001b[?25hInstalling collected packages: biopython\n",
            "Successfully installed biopython-1.84\n"
          ]
        }
      ]
    },
    {
      "cell_type": "code",
      "source": [
        "\n",
        "import csv\n",
        "import requests\n",
        "from Bio import Entrez, SeqIO\n",
        "Entrez.email = \"madhuanabala567@gmail.com\"\n",
        "def fetch_uniprot_antigen_data(search_term, max_results=500, output_csv=\"antigen_data.csv\"):\n",
        "    \"\"\"\n",
        "    Fetch antigen data from uniport, including sequences, organism, and PDB IDs, and save to a CSV file.\n",
        "\n",
        "    Parameters:\n",
        "    - search_term: Search term for antigens (e.g., \"antigen\").\n",
        "    - max_results: Maximum number of results to fetch (default: 10).\n",
        "    - output_csv: Name of the output CSV file (default: \"antigen_data.csv\").\n",
        "    \"\"\"\n",
        "    try:\n",
        "        # UniProt search URL\n",
        "        uniprot_url = \"https://rest.uniprot.org/uniprotkb/search\"\n",
        "\n",
        "        # Query parameters\n",
        "        params = {\n",
        "            \"query\": search_term,\n",
        "            \"fields\": \"accession,organism_name,sequence\",\n",
        "            \"format\": \"json\",\n",
        "            \"size\": max_results\n",
        "        }\n",
        "\n",
        "        print(f\"Searching UniProt for '{search_term}'...\")\n",
        "        response = requests.get(uniprot_url, params=params)\n",
        "        response.raise_for_status()\n",
        "        results = response.json().get(\"results\", [])\n",
        "\n",
        "        if not results:\n",
        "            print(\"No sequences found!\")\n",
        "            return\n",
        "\n",
        "        print(f\"Found {len(results)} sequences. Fetching details...\")\n",
        "\n",
        "        # Prepare data for CSV and FASTA\n",
        "        data = []\n",
        "        fasta_entries = []\n",
        "        for result in results:\n",
        "            accession = result.get(\"primaryAccession\", \"N/A\")\n",
        "            organism = result.get(\"organism\", {}).get(\"scientificName\", \"Unknown\")\n",
        "            sequence = result.get(\"sequence\", {}).get(\"value\", \"N/A\")\n",
        "\n",
        "            # Save details for CSV\n",
        "            data.append([accession, organism, sequence])\n",
        "\n",
        "            # Prepare FASTA entry\n",
        "            fasta_entries.append(f\">{accession} {organism}\\n{sequence}\")\n",
        "\n",
        "        # Write to CSV\n",
        "        with open(output_csv, mode=\"w\", newline=\"\") as csv_file:\n",
        "            writer = csv.writer(csv_file)\n",
        "            writer.writerow([\"Accession\", \"Organism\", \"Sequence\"])\n",
        "            writer.writerows(data)\n",
        "\n",
        "        print(f\"Data saved to {output_csv}.\")\n",
        "\n",
        "        # Write sequences to FASTA file\n",
        "        fasta_file = output_csv.replace(\".csv\", \".fasta\")\n",
        "        with open(fasta_file, mode=\"w\") as fasta_output:\n",
        "            fasta_output.write(\"\\n\".join(fasta_entries))\n",
        "\n",
        "        print(f\"FASTA sequences saved to {fasta_file}.\")\n",
        "\n",
        "    except Exception as e:\n",
        "        print(f\"An error occurred: {e}\")\n",
        "\n",
        "# Example usage\n",
        "search_term = \"antigen\"  # Replace with specific search terms for antigens\n",
        "fetch_uniprot_antigen_data(search_term, max_results=500)"
      ],
      "metadata": {
        "colab": {
          "base_uri": "https://localhost:8080/"
        },
        "id": "vH_0wkCGaawv",
        "outputId": "62e15cd4-ca33-4348-87ca-55e90fca2e0e"
      },
      "execution_count": null,
      "outputs": [
        {
          "output_type": "stream",
          "name": "stdout",
          "text": [
            "Searching UniProt for 'antigen'...\n",
            "Found 500 sequences. Fetching details...\n",
            "Data saved to antigen_data.csv.\n",
            "FASTA sequences saved to antigen_data.fasta.\n"
          ]
        }
      ]
    }
  ],
  "metadata": {
    "colab": {
      "provenance": [],
      "authorship_tag": "ABX9TyPYnLaHMsCo7tUYDln2vdsu",
      "include_colab_link": true
    },
    "kernelspec": {
      "display_name": "Python 3",
      "name": "python3"
    },
    "language_info": {
      "name": "python"
    }
  },
  "nbformat": 4,
  "nbformat_minor": 0
}