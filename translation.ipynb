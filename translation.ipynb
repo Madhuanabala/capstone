{
  "nbformat": 4,
  "nbformat_minor": 0,
  "metadata": {
    "colab": {
      "provenance": [],
      "authorship_tag": "ABX9TyPWR9b5gZfz5YZCMF4vpLYk",
      "include_colab_link": true
    },
    "kernelspec": {
      "name": "python3",
      "display_name": "Python 3"
    },
    "language_info": {
      "name": "python"
    }
  },
  "cells": [
    {
      "cell_type": "markdown",
      "metadata": {
        "id": "view-in-github",
        "colab_type": "text"
      },
      "source": [
        "<a href=\"https://colab.research.google.com/github/Madhuanabala/capstone/blob/main/translation.ipynb\" target=\"_parent\"><img src=\"https://colab.research.google.com/assets/colab-badge.svg\" alt=\"Open In Colab\"/></a>"
      ]
    },
    {
      "cell_type": "code",
      "execution_count": 1,
      "metadata": {
        "colab": {
          "base_uri": "https://localhost:8080/"
        },
        "id": "e_GlrRWDznll",
        "outputId": "599019a3-91b6-4d2a-a9e0-c49c0949d7e5"
      },
      "outputs": [
        {
          "output_type": "stream",
          "name": "stdout",
          "text": [
            "Collecting biopython\n",
            "  Downloading biopython-1.85-cp311-cp311-manylinux_2_17_x86_64.manylinux2014_x86_64.whl.metadata (13 kB)\n",
            "Requirement already satisfied: numpy in /usr/local/lib/python3.11/dist-packages (from biopython) (1.26.4)\n",
            "Downloading biopython-1.85-cp311-cp311-manylinux_2_17_x86_64.manylinux2014_x86_64.whl (3.3 MB)\n",
            "\u001b[2K   \u001b[90m━━━━━━━━━━━━━━━━━━━━━━━━━━━━━━━━━━━━━━━━\u001b[0m \u001b[32m3.3/3.3 MB\u001b[0m \u001b[31m29.8 MB/s\u001b[0m eta \u001b[36m0:00:00\u001b[0m\n",
            "\u001b[?25hInstalling collected packages: biopython\n",
            "Successfully installed biopython-1.85\n"
          ]
        }
      ],
      "source": [
        "!pip install biopython\n"
      ]
    },
    {
      "cell_type": "code",
      "source": [
        "import csv\n",
        "from Bio.Seq import Seq\n",
        "\n",
        "def translate_dna_to_protein(dna_sequence, seq_type=\"cDNA\", trim_to_multiple_of_3=False, pad_sequence=False):\n",
        "    \"\"\"\n",
        "    Translates DNA sequence (cDNA or gDNA) to protein sequence.\n",
        "\n",
        "    Args:\n",
        "        dna_sequence (str): The input DNA sequence (cDNA or gDNA).\n",
        "        seq_type (str): The type of the sequence (\"cDNA\" or \"gDNA\"). Default is \"cDNA\".\n",
        "        trim_to_multiple_of_3 (bool): Whether to trim the sequence to a multiple of 3 (default is False).\n",
        "        pad_sequence (bool): Whether to pad the sequence with 'N' to make its length a multiple of 3 (default is False).\n",
        "\n",
        "    Returns:\n",
        "        str: The translated protein sequence.\n",
        "    \"\"\"\n",
        "\n",
        "    dna_sequence = dna_sequence.replace(\" \", \"\").replace(\"\\n\", \"\").upper()\n",
        "\n",
        "\n",
        "    if len(dna_sequence) % 3 != 0:\n",
        "        if trim_to_multiple_of_3:\n",
        "\n",
        "            dna_sequence = dna_sequence[:len(dna_sequence) - (len(dna_sequence) % 3)]\n",
        "            print(f\"Trimmed the sequence to a length that is a multiple of 3: {dna_sequence}\")\n",
        "        elif pad_sequence:\n",
        "\n",
        "            pad_length = 3 - (len(dna_sequence) % 3)\n",
        "            dna_sequence += \"N\" * pad_length\n",
        "            print(f\"Padded the sequence to a length that is a multiple of 3: {dna_sequence}\")\n",
        "        else:\n",
        "            print(f\"Warning: The sequence length is not a multiple of 3. Translation may be incomplete for {dna_sequence}.\")\n",
        "\n",
        "\n",
        "    dna = Seq(dna_sequence)\n",
        "\n",
        "\n",
        "    protein = dna.translate()\n",
        "\n",
        "    return str(protein)\n",
        "\n",
        "def read_sequences_from_csv(input_file):\n",
        "    \"\"\"\n",
        "    Reads DNA sequences from a CSV file.\n",
        "\n",
        "    Args:\n",
        "        input_file (str): Path to the CSV file containing DNA sequences.\n",
        "\n",
        "    Returns:\n",
        "        list: A list of dictionaries with 'Sequence Name' and 'Sequence' keys.\n",
        "    \"\"\"\n",
        "    sequences = []\n",
        "    with open(input_file, mode='r') as infile:\n",
        "        reader = csv.DictReader(infile)\n",
        "        for row in reader:\n",
        "            sequences.append({'name': row['Sequence Name'], 'sequence': row['Sequence']})\n",
        "    return sequences\n",
        "\n",
        "def write_proteins_to_csv(protein_sequences, output_file):\n",
        "    \"\"\"\n",
        "    Writes translated protein sequences to a CSV file.\n",
        "\n",
        "    Args:\n",
        "        protein_sequences (list): List of dictionaries containing protein sequence data.\n",
        "        output_file (str): Path to the output CSV file.\n",
        "    \"\"\"\n",
        "    with open(output_file, mode='w', newline='') as outfile:\n",
        "        fieldnames = ['Sequence Name', 'Protein Sequence']\n",
        "        writer = csv.DictWriter(outfile, fieldnames=fieldnames)\n",
        "        writer.writeheader()\n",
        "        for seq in protein_sequences:\n",
        "            writer.writerow(seq)\n",
        "\n",
        "def process_sequences(input_file, output_file, seq_type=\"cDNA\", trim_to_multiple_of_3=False, pad_sequence=False):\n",
        "    \"\"\"\n",
        "    Reads DNA sequences from a CSV file, translates them to protein, and writes the results to another CSV file.\n",
        "\n",
        "    Args:\n",
        "        input_file (str): Path to the input CSV file containing DNA sequences.\n",
        "        output_file (str): Path to the output CSV file where protein sequences will be saved.\n",
        "        seq_type (str): The type of the sequence (\"cDNA\" or \"gDNA\"). Default is \"cDNA\".\n",
        "        trim_to_multiple_of_3 (bool): Whether to trim the sequence to a multiple of 3.\n",
        "        pad_sequence (bool): Whether to pad the sequence to a multiple of 3.\n",
        "    \"\"\"\n",
        "\n",
        "    sequences = read_sequences_from_csv(input_file)\n",
        "\n",
        "\n",
        "    protein_sequences = []\n",
        "    for seq in sequences:\n",
        "        if seq['sequence'].strip():\n",
        "            protein = translate_dna_to_protein(seq['sequence'], seq_type, trim_to_multiple_of_3, pad_sequence)\n",
        "            protein_sequences.append({'Sequence Name': seq['name'], 'Protein Sequence': protein})\n",
        "        else:\n",
        "            protein_sequences.append({'Sequence Name': seq['name'], 'Protein Sequence': \"Invalid sequence\"})\n",
        "\n",
        "\n",
        "    write_proteins_to_csv(protein_sequences, output_file)\n",
        "\n",
        "input_csv_file = '/content/antibody sequences from imgt (CEA).csv'\n",
        "output_csv_file = 'output_protein_sequences.csv'\n",
        "process_sequences(input_csv_file, output_csv_file, seq_type=\"cDNA\", trim_to_multiple_of_3=True)\n"
      ],
      "metadata": {
        "colab": {
          "base_uri": "https://localhost:8080/"
        },
        "id": "g7Rj6bGU4x4D",
        "outputId": "b91ac9ac-9af7-4c20-aa90-d74543e0fe29"
      },
      "execution_count": 20,
      "outputs": [
        {
          "output_type": "stream",
          "name": "stdout",
          "text": [
            "Trimmed the sequence to a length that is a multiple of 3: CGCTGCTGAGTCTCAGGCTGAATGTGTTCTTGCTGGTGT\n",
            "Trimmed the sequence to a length that is a multiple of 3: TGAGGAGACGGTGACCGTGGTCCCTTGGCCCCA\n",
            "Trimmed the sequence to a length that is a multiple of 3: CGCTGCTGAGTCTCAGGTAGGCTGTGTTCTTGCTGGTGT\n",
            "Trimmed the sequence to a length that is a multiple of 3: GCGGGCCTCTTCGCTATTACG\n",
            "Trimmed the sequence to a length that is a multiple of 3: GGAAGCTTGAAGATGGATACAGTTGGTGCA\n",
            "Trimmed the sequence to a length that is a multiple of 3: GAGGTTCAGCTGCAGCAGTCTGGGGCAGAGCTTGTGAGGTCAGGGGCCTCAGTCAAGATGTCCTGCACAGCTTCTGGCTTCAACATTAAAGACTACTATATGCACTGGGTGAAGCAGAGGCCTGAACAGGGCCTGGAGTGGATTGGATGGATTGATCCTGAGAATGGTGATACTGAATATGCCCCGAAGTTCCAGGGCAAGGCCACTATGACTACAGACACATCCTCCAACACAGCCTACCTGCAGCTCAGCAGCCTGACATCTGAGGACACTGCCGTCTATTACTGTAATACACGGGGTCTATCTACTATGATTACGACGCGTTGGTTCTTCGATGTCTGGGGCGCAGGGACCACGGTCGCCGTCTCCTCT\n",
            "Trimmed the sequence to a length that is a multiple of 3: TTGAATTCGGAGCTGATGGGAACATTGTAA\n",
            "Trimmed the sequence to a length that is a multiple of 3: GAGTCAGCACTGAACACGGACCCCTCACGATGAACTTCGGGCTCAGCTTGATTTACCTTGTCCTGGTTTTAAAAGTTGTCCAGTGTGAAGTGATGCTGGTGGAGTCTGGGGGAGTCTTAATGGAGCCTGGAGGGTCCCTGAAACTCTCCTGTGCAGCCTCTGGATTCACTTTCAGTAGATATGCCATGTCTTGGGTTCGCCAGACTCCGGAGAAGAGGCTGGAGTGGGTCGCAACCATTAGTAGTGGTGGTAGTTCACACCTTCCATCCAGACAGTGTGAAGGGCGATTCACCATCTCCAGAGACAATGCCAAGAACACCCTGTACCTGCAAATGAGCAGTCTGAGGTCTGAGGACACGGCCATGTATTACTGTGCAAGACCCCCTCTTATTTCGTTAGTAGCGGACTATGCTATGGACTACTGGGGTCAAGGAACCTCAGTCACCGTCTCCTCAGCCAAAACGACACCCCCATCTGTCTATCCACTGGCCCCTGGATCTGCTGCCCAAACTAACTCCATGGTGACCCTGGGATGCCTGGTCAAGGGCTATTTCCCTGAGCCAGTGACAGTGACCTGGAACTCTGGATCCCTGTCCAGCGGTGTGCACACCTTCCCAGCTGTCCTGCAGTCTGACCTCTACACTCTGAGCAGCTCAGTGACTGTCCCCTCCAGCCCTCGGCCCAGCGAGACCGTCACCTGCAACGTTGCCCACCCGGCCAGCAGCACCAAGGTGGACAAGAAAATTGTGCCCAGGGATTGTGGTTGTAAGCCTTGCATATGTACAGTCCCAGAAGTATCATCTGTCTTCATCTTCCCCCCAAAGCCCAAGGATGTGCTCACCATTACTCTGACTCCTAAGGTCACGTGTGTTGTGGTAGACATCAGCAAGGATGATCCCGAGGTCCAGTTCAGCTGGTTTGTAGATGATGTGGAGGTGCACACAGCTCAGACGCAACCCCGGGAGGAGCAGTTCAACAGCACTTTCCGCTCAGTCAGTGAACTTCCCATCATGCACCAGGACTGGCTCAATGGCAAGGAGTTCAAATGCAGGGTCAACAGTGCAGCTTTCCCTGCCCCCATCGAGAAAACCATCTCCAAAACCAAAGGCAGACCGAAGGCTCCACAGGTGTACACCATTCCACCTCCCAAGGAGCAGATGGCCAAGGATAAAGTCAGTCTGACCTGCATGATAACAGACTTCTTCCCTGAAGACATTACTGTGGAGTGGCAGTGGAATGGGCAGCCAGCGGAGAACTACAAGAACACTCAGCCCATCATGAACACGAATGGCTCTTACTTCGTCTACAGCAAGCTCAATGTGCAGAAGAGCAACTGGGAGGCAGGAAATACTTTCACCTGCTCTGTGTTACATGAGGGCCTGCACAACCACCATACTGAGAAGAGCCTCTCCCACTCTCCTGGTAAATGATCCCAGTGTCCTTGGAGCCCTCTGGTCCTACAGGACTCTGACACCTACCTCCACCCCTCCCTGTATAAATAAAGCACCCAGCACTGCCTTGGGAAAA\n",
            "Trimmed the sequence to a length that is a multiple of 3: TGACCTGCACCGCGTCTGGCTTCA\n",
            "Trimmed the sequence to a length that is a multiple of 3: GAGTCAGCACTGAACACGGACCCCTCACGATGAACTTCGGGCTCAGCTTGATTTACCTTGTCCTGGTTTTAAAAGTTGTCCAGTGTGAAGTGATGCTGGTGGAGTCTGGGGGAGTCTTAATGGAGCCTGGAGGGTCCCTGAAACTCTCCTGTGCAGCCTCTGGATTCACTTTCAGTAGATATGCCATGTCTTGGGTTCGCCAGACTCCGGAGAAGAGGCTGGAGTGGGTCGCAACCATTAGTAGTGGTGGTAGTTCACACCTTCCATCCAGACAGTGTGAAGGGCGATTCACCATCTCCAGAGACAATGCCAAGAACACCCTGTACCTGCAAATGAGCAGTCTGAGGTCTGAGGACACGGCCATGTATTACTGTGCAAGACCCCCTCTTATTTCGTTAGTAGCGGACTATGCTATGGACTACTGGGGTCAAGGAACCTCAGTCACCGTCTCCT\n",
            "Trimmed the sequence to a length that is a multiple of 3: GCTCTGGGTCATCTGGATGTC\n",
            "Trimmed the sequence to a length that is a multiple of 3: ACTCCGACATCGTGCTGACCCAGA\n",
            "Trimmed the sequence to a length that is a multiple of 3: CWGAGAAATTCAGCTGACCCAGTC\n",
            "Trimmed the sequence to a length that is a multiple of 3: ATGGATTGGCTGTGGAACTTGCTATTCCTGATGGCAGCTGCCCAAAGTAAGACATCAGAAAAAAGAGTTCCGAGGGGAATTGAAGCAGTTCCATGAATACTCACCTTCCTGTGTTCTTTTCACAGGTATCCAAGCACAAATCCAGTTGGTGCAGTCTGGACCTGAGCTGAAGAAGCCTGGAGAGACAGTCAAGATCTCCTGCAAGGCTTCTGGGTATACCTTCACAAACGATGGAATGAACTGGGTGAAGCAGGCTCCAGGAAAGGGTTTTAACTACTTGGGCTGGATAAACACCATCACTGGAGAGTCAACATATGCTGAAGACTTCAAGGGACGGTTTGCCTTCTCTTTGGAAACCTCTGCCAGCACTGCCTATTTGCAGATCAACAACCTCAAAAATAACGACACGGCTACATATTTCTGTGCAAAAGGGACTGGGACGAGCGCTTACTGGGGCCAGGGGACTCTGGTCACTGTCTCTGCAGGTGAGTC\n",
            "Trimmed the sequence to a length that is a multiple of 3: GTTAGATCTCCAGCTTGGTCC\n",
            "Trimmed the sequence to a length that is a multiple of 3: TCGGGGCATATTCAGTATCACCATTCTCAGGAT\n",
            "Trimmed the sequence to a length that is a multiple of 3: TTGAATTCGGTGCCAGAKCWSAHATYGTKA\n",
            "Trimmed the sequence to a length that is a multiple of 3: TTCAGTGAAGATATCCTGCAAGGCTTCTGGTTACTCATTCACTGGCTACTACATGCACTGGGTGAAGCAAAGCCATGTTAAGAGCCTTGAGTGGATTGGACGTATGAATCCTTACAATGGTGCTATTAGGTTCGACCCGAATTTCAAGGACAAGGCCAGGTTGACTGTAGATAAGTCCTCCAGCACAGCCTTCATGGAGCTCCACAGCCTGACATCTGAGGACTCTGCAGTCTATTATTGTGCAAGGGGTAATCCCGGGTATTTCGATGTCTGGGGCGCAGGGACCACGGTCACCGTCTCCTC\n",
            "Trimmed the sequence to a length that is a multiple of 3: AGGTGAAACTGCAGGAGTCTGGACCTGGCCTGGTGGCGCCCTCACAGAGCCTGTCCATGAGTTGCACTGTCTCTGGGTTTTCATTAAGCAGCTATGGTGTACACTGGGTTCGCCAGCCTCCAGGAAAGGGTCTGGAGTGGCTGGGAGTAATATGGGCTGGTGGAACCACAAATTATAATTCGGCTCTCATGTCCAGACTGAGCATCAGCAAAGACAACTCCAAGAGCCAAGTTCTCTTAAAAATGAACAGTCTGCAAACGGATGACACAGCCATGTACTACTGTGCCACAACTACTATGATTACCCTTATGGACTACTGGGGCCAAGGGACCACGGTCACCGTCTCCT\n",
            "Trimmed the sequence to a length that is a multiple of 3: ACTATGATTACGACGCGTTGGTTCTTCGATGTCTGGGGCCAAGGGTCCTTGGTCACG\n",
            "Trimmed the sequence to a length that is a multiple of 3: TATAGCCAGATGCACTGACACTTTTGCTGGCCCTACAGGTGA\n",
            "Trimmed the sequence to a length that is a multiple of 3: ACGCGTCGTAATCATAGTAGATAGACCCCGTGTATTACAGTAATAGACCGCGGT\n",
            "Trimmed the sequence to a length that is a multiple of 3: GTTAGATCTCCAGTTTGGTGC\n",
            "Trimmed the sequence to a length that is a multiple of 3: GCCTTACCTGGCGTCTGCTGGTAC\n",
            "Trimmed the sequence to a length that is a multiple of 3: TTGAAGCCAGACGCGGTGCAGGTC\n",
            "Trimmed the sequence to a length that is a multiple of 3: GAGGTTCAGCTGCAGCAGTCTGGGGCAGAGCTTGTGAGGTCAGGGGCCTCAGTCAAGATGTCCTGCACAGCTTCTGGCTTCAACATTAAAGACTACTATATGCACTGGGTGAAGCAGAGGCCTGAACAGGGCCTGGAGTGGATTGGATGGATTGATCCTGAGAATGGTGATACTGAATATGCCCCGAAGTTCCAGGGCAAGGCCACTATGACTACAGACACATCCTCCAACACAGCCTACCTGCAGCTCAGCAGCCTGACATCTGAGGACACTGCCGTCTATTACTGTAATACACGGGGTCTATCTACTATGATTACGACGCGTTGGTTCTTCGATGTCTGGGGCGCAGGGACCACGGTCACCGTCTCCTCA\n",
            "Trimmed the sequence to a length that is a multiple of 3: CTAAAACGACGGCCA\n",
            "Trimmed the sequence to a length that is a multiple of 3: TGGAATTCATGGRATGGAGCTGGRTCWTBHTCT\n",
            "Trimmed the sequence to a length that is a multiple of 3: TTGAATTCGGTGCCAGAKCWSAHATYGTKC\n",
            "Trimmed the sequence to a length that is a multiple of 3: GAGACTCAGCAGCGTGAC\n",
            "Trimmed the sequence to a length that is a multiple of 3: GACATTGTGCTGACACAGTCTCCTGCTTCCTTAACTGTATCTCTGGGGCTGAGGGCCACCATCTCATGCAGGGCCAGCAAAAGTGTCAGTGCATCTGGCTATAGTTATATGCACTGGTACCAACAGAGACCAGGACAGCCACCCAAACTCCTCATCTATCTTGCATCCAACCTACAATCTGGGGTCCCTGCCAGGTTCAGTGGCAGTGGGTCTGGGACAGACTTCACCCTCAACATCCATCCTGTGGAGGAGGAGGATGCTGCAACCTATTACTGTCAGCACAGTAGGGAGCTTCCGACGTTCGGTGGAGGCACCAAGCTGGAAATCAAA\n",
            "Trimmed the sequence to a length that is a multiple of 3: ATGGTGAAGGTGTAGTCGGTACCG\n",
            "Trimmed the sequence to a length that is a multiple of 3: CTCTCTCAGGGCCAGGCGGTG\n",
            "Trimmed the sequence to a length that is a multiple of 3: CGCTGCTGAGTCTCAGGCTGGCCTGGTTCTTGCTGG\n",
            "Trimmed the sequence to a length that is a multiple of 3: TGAGAATGGTGATACTGAATATGCCCCGAA\n",
            "Trimmed the sequence to a length that is a multiple of 3: TGACCCAATCTCCAGCTTCTTTGGCTGTGTCTCTAGGGCAGAGGGCCACCATATCCTGCAGAGCCAGTGAAGGTTTTGATGTTTATGGCAATAGTTTTATGCACTGGTACCAGCAGAAACCAGGACAGCCACCCAAACTCCTCATCTATGGTGCGTCCAACCTAGAATCTGGGATCCCTGCCAGGTTCAGTGGCAGTGGGTCTAGGACAGACTTCACCCTCACCATTAATCCTGTGGAGGCTGATGATGTTGCAACCTATTACTGTCAGCAAAGTAATGAGGATCCATTCACGTTCGGCTCGGGGACAAAGTTGGAAATAA\n",
            "Trimmed the sequence to a length that is a multiple of 3: ACCAGCAGCAACACAGCCTACCTGAGACTCAGC\n",
            "Trimmed the sequence to a length that is a multiple of 3: GCACACCAGATTGTAGGTTGGATGCAA\n",
            "Trimmed the sequence to a length that is a multiple of 3: GGAAGCTTAGACAGATGGGGGTGTCGTTTT\n",
            "Trimmed the sequence to a length that is a multiple of 3: AGGTSMARCTGCAGSAGTCWG\n",
            "Trimmed the sequence to a length that is a multiple of 3: GACATTCAGCTGACC\n",
            "Trimmed the sequence to a length that is a multiple of 3: TATAGCCAGATGCACTGACACTTTTGCTGGCCCTACAGGTGA\n",
            "Trimmed the sequence to a length that is a multiple of 3: AACAGCTATGACCAT\n"
          ]
        }
      ]
    }
  ]
}